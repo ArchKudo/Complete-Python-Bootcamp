{
 "cells": [
  {
   "cell_type": "markdown",
   "metadata": {},
   "source": [
    "## Objects and Types\n",
    "\n",
    "Everything in Python is an object!\n",
    "To know the type of an object use `type()` function"
   ]
  },
  {
   "cell_type": "code",
   "execution_count": 1,
   "metadata": {
    "collapsed": false
   },
   "outputs": [
    {
     "name": "stdout",
     "output_type": "stream",
     "text": [
      "<type 'int'>\n",
      "<type 'str'>\n",
      "<type 'list'>\n",
      "<type 'tuple'>\n",
      "<type 'dict'>\n",
      "<type 'bool'>\n",
      "<type 'NoneType'>\n"
     ]
    }
   ],
   "source": [
    "print type(1) # An int object\n",
    "print type('Virgo Serena') # A string object\n",
    "print type([1, 2, 3]) # A list object\n",
    "print type((12, 13)) # A tup object\n",
    "print type({'k1':1}) # A dict type object\n",
    "print type(True) # A bool object\n",
    "print type(None) # A NoneType object"
   ]
  },
  {
   "cell_type": "markdown",
   "metadata": {},
   "source": [
    "## Creating new objects using class keyword"
   ]
  },
  {
   "cell_type": "markdown",
   "metadata": {},
   "source": [
    "### General Syntax:\n",
    "```\n",
    "class ClassName(Object):\n",
    "    # 'Class Object' Attributes or simply 'Class Attributes'\n",
    "    attribute = value\n",
    "    \n",
    "    # Init method to initialize new classes\n",
    "    def __init__(self, more...attributes):\n",
    "        self.attr = value\n",
    "        ...\n",
    "        ...\n",
    "    \n",
    "    # General methods on class\n",
    "    def methods(self, ...):\n",
    "        do something\n",
    "    \n",
    "    # Special methods for handling built-in functions\n",
    "    def __sp_methods__:\n",
    "        do something\n",
    "```"
   ]
  },
  {
   "cell_type": "code",
   "execution_count": 2,
   "metadata": {
    "collapsed": false
   },
   "outputs": [],
   "source": [
    "# An animal class -- Parent\n",
    "class Animal(object):\n",
    "    kingdom = 'Animalia'\n",
    "    def __init__(self, pet_able=False):\n",
    "        self.pet_able = pet_able\n",
    "    \n",
    "    def eat(self):\n",
    "        print 'Chomp! Chomp! Om Nom!'\n",
    "\n",
    "        \n",
    "# A dog class -- Child\n",
    "class Dog(Animal):\n",
    "    # Class variables:\n",
    "    family = 'canines'\n",
    "    \n",
    "    # Init or constructor\n",
    "    def __init__(self, breed, size, drool=True, friendly=True):\n",
    "        self.pet_able = True\n",
    "        self.breed = breed\n",
    "        self.drool = drool\n",
    "        self.friendly = friendly\n",
    "        self.size = size\n",
    "    \n",
    "    def bark(self):\n",
    "        print 'Woof! Woof!'\n",
    "        \n",
    "    def __str__(self):\n",
    "        return 'I am %s, more importantly a good boy' % self.breed\n",
    "    \n",
    "    def __len__(self):\n",
    "        return 'I am %s big' % self.size\n",
    "        \n",
    "    def __del__(self):\n",
    "        print 'Bye! hooman.....'\n",
    "    \n",
    "    \n",
    "        "
   ]
  },
  {
   "cell_type": "code",
   "execution_count": 3,
   "metadata": {
    "collapsed": false
   },
   "outputs": [],
   "source": [
    "doggo = Dog(breed='mastiff', size='large')"
   ]
  },
  {
   "cell_type": "code",
   "execution_count": 4,
   "metadata": {
    "collapsed": false
   },
   "outputs": [
    {
     "name": "stdout",
     "output_type": "stream",
     "text": [
      "I am mastiff, more importantly a good boy\n"
     ]
    }
   ],
   "source": [
    "print doggo\n"
   ]
  },
  {
   "cell_type": "code",
   "execution_count": 5,
   "metadata": {
    "collapsed": true
   },
   "outputs": [],
   "source": [
    "hocuspocus = Animal()\n"
   ]
  },
  {
   "cell_type": "code",
   "execution_count": 6,
   "metadata": {
    "collapsed": false
   },
   "outputs": [
    {
     "name": "stdout",
     "output_type": "stream",
     "text": [
      "Chomp! Chomp! Om Nom!\n"
     ]
    }
   ],
   "source": [
    "hocuspocus.eat()\n"
   ]
  },
  {
   "cell_type": "code",
   "execution_count": 7,
   "metadata": {
    "collapsed": false
   },
   "outputs": [
    {
     "name": "stdout",
     "output_type": "stream",
     "text": [
      "Woof! Woof!\n"
     ]
    }
   ],
   "source": [
    "doggo.bark()"
   ]
  },
  {
   "cell_type": "code",
   "execution_count": 8,
   "metadata": {
    "collapsed": false
   },
   "outputs": [
    {
     "name": "stdout",
     "output_type": "stream",
     "text": [
      "Chomp! Chomp! Om Nom!\n"
     ]
    }
   ],
   "source": [
    "doggo.eat()"
   ]
  },
  {
   "cell_type": "code",
   "execution_count": 9,
   "metadata": {
    "collapsed": false
   },
   "outputs": [
    {
     "name": "stdout",
     "output_type": "stream",
     "text": [
      "Bye! hooman.....\n"
     ]
    }
   ],
   "source": [
    "del doggo"
   ]
  },
  {
   "cell_type": "code",
   "execution_count": 10,
   "metadata": {
    "collapsed": true
   },
   "outputs": [],
   "source": [
    "del hocuspocus"
   ]
  },
  {
   "cell_type": "code",
   "execution_count": null,
   "metadata": {
    "collapsed": true
   },
   "outputs": [],
   "source": []
  }
 ],
 "metadata": {
  "anaconda-cloud": {},
  "kernelspec": {
   "display_name": "Python [conda root]",
   "language": "python",
   "name": "conda-root-py"
  },
  "language_info": {
   "codemirror_mode": {
    "name": "ipython",
    "version": 2
   },
   "file_extension": ".py",
   "mimetype": "text/x-python",
   "name": "python",
   "nbconvert_exporter": "python",
   "pygments_lexer": "ipython2",
   "version": "2.7.12"
  }
 },
 "nbformat": 4,
 "nbformat_minor": 1
}
