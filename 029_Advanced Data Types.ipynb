{
 "cells": [
  {
   "cell_type": "markdown",
   "metadata": {},
   "source": [
    "## Advanced Numbers"
   ]
  },
  {
   "cell_type": "code",
   "execution_count": 1,
   "metadata": {
    "collapsed": false
   },
   "outputs": [
    {
     "name": "stdout",
     "output_type": "stream",
     "text": [
      "0x64\n",
      "<type 'str'>\n",
      "0b1100100\n",
      "<type 'str'>\n"
     ]
    }
   ],
   "source": [
    "# Getting hex\n",
    "print hex(100) \n",
    "print type(hex(100)) # hex returns a string\n",
    "\n",
    "# Getting binary\n",
    "print bin(100)\n",
    "print type(bin(100))"
   ]
  },
  {
   "cell_type": "code",
   "execution_count": 2,
   "metadata": {
    "collapsed": false
   },
   "outputs": [
    {
     "name": "stdout",
     "output_type": "stream",
     "text": [
      "16\n",
      "0\n"
     ]
    }
   ],
   "source": [
    "# Using pow()\n",
    "print pow(2, 4)\n",
    "print pow(2, 4, 2) # Returns (2 ** 4) % 2"
   ]
  },
  {
   "cell_type": "code",
   "execution_count": 3,
   "metadata": {
    "collapsed": false
   },
   "outputs": [
    {
     "name": "stdout",
     "output_type": "stream",
     "text": [
      "3.0\n",
      "3.14\n"
     ]
    }
   ],
   "source": [
    "# Using round() -- Returns a float\n",
    "print round(3.1415) # Round to nearest integer\n",
    "print round(3.1415, 2) # Round to 2 decimal places"
   ]
  },
  {
   "cell_type": "code",
   "execution_count": 4,
   "metadata": {
    "collapsed": false
   },
   "outputs": [
    {
     "name": "stdout",
     "output_type": "stream",
     "text": [
      "3.14\n",
      "3.14\n"
     ]
    }
   ],
   "source": [
    "# Using abs() to return absolute value\n",
    "print abs(3.14)\n",
    "print abs(-3.14)"
   ]
  },
  {
   "cell_type": "markdown",
   "metadata": {},
   "source": [
    "## Advanced Lists"
   ]
  },
  {
   "cell_type": "code",
   "execution_count": 5,
   "metadata": {
    "collapsed": true
   },
   "outputs": [],
   "source": [
    "lst = [x for x in range(10)]"
   ]
  },
  {
   "cell_type": "code",
   "execution_count": 6,
   "metadata": {
    "collapsed": false
   },
   "outputs": [
    {
     "name": "stdout",
     "output_type": "stream",
     "text": [
      "[0, 1, 2, 3, 4, 5, 6, 7, 8, 9, 2]\n"
     ]
    }
   ],
   "source": [
    "# Appending elements\n",
    "lst.append(2) # No restrictions on arguments, can be any type of object\n",
    "print lst"
   ]
  },
  {
   "cell_type": "code",
   "execution_count": 7,
   "metadata": {
    "collapsed": false
   },
   "outputs": [
    {
     "name": "stdout",
     "output_type": "stream",
     "text": [
      "2\n"
     ]
    }
   ],
   "source": [
    "# Getting count of elements\n",
    "print lst.count(2)"
   ]
  },
  {
   "cell_type": "code",
   "execution_count": 8,
   "metadata": {
    "collapsed": false
   },
   "outputs": [
    {
     "name": "stdout",
     "output_type": "stream",
     "text": [
      "[0, 1, 2, 3, 4, 5, 6, 7, 8, 9, 2, 2, 3]\n"
     ]
    }
   ],
   "source": [
    "# Extending list\n",
    "lst.extend([2, 3])\n",
    "print lst"
   ]
  },
  {
   "cell_type": "code",
   "execution_count": 9,
   "metadata": {
    "collapsed": false
   },
   "outputs": [
    {
     "name": "stdout",
     "output_type": "stream",
     "text": [
      "Only iterables are allowed\n"
     ]
    }
   ],
   "source": [
    "try:\n",
    "    lst.extend(2)\n",
    "except TypeError:\n",
    "    print 'Only iterables are allowed'"
   ]
  },
  {
   "cell_type": "code",
   "execution_count": 10,
   "metadata": {
    "collapsed": false
   },
   "outputs": [
    {
     "name": "stdout",
     "output_type": "stream",
     "text": [
      "2\n"
     ]
    }
   ],
   "source": [
    "# Getting first index of element\n",
    "print lst.index(2)"
   ]
  },
  {
   "cell_type": "code",
   "execution_count": 11,
   "metadata": {
    "collapsed": false
   },
   "outputs": [
    {
     "name": "stdout",
     "output_type": "stream",
     "text": [
      "Element not in list\n"
     ]
    }
   ],
   "source": [
    "try:\n",
    "    print lst.index(12)\n",
    "except ValueError:\n",
    "    print 'Element not in list'"
   ]
  },
  {
   "cell_type": "code",
   "execution_count": 12,
   "metadata": {
    "collapsed": false
   },
   "outputs": [
    {
     "name": "stdout",
     "output_type": "stream",
     "text": [
      "[0, 1, 2, 3, 4, 5, 6, 7, 8, 9, 2, 2]\n",
      "[0, 1, 3, 4, 5, 6, 7, 8, 9, 2, 2]\n"
     ]
    }
   ],
   "source": [
    "# Removing last element\n",
    "lst.pop()\n",
    "print lst\n",
    "\n",
    "# Removing first occurence of element\n",
    "lst.remove(2)\n",
    "print lst"
   ]
  },
  {
   "cell_type": "code",
   "execution_count": 13,
   "metadata": {
    "collapsed": false
   },
   "outputs": [
    {
     "name": "stdout",
     "output_type": "stream",
     "text": [
      "[2, 2, 9, 8, 7, 6, 5, 4, 3, 1, 0]\n"
     ]
    }
   ],
   "source": [
    "# Permanently reversing list\n",
    "lst.reverse()\n",
    "print lst"
   ]
  },
  {
   "cell_type": "code",
   "execution_count": 14,
   "metadata": {
    "collapsed": false
   },
   "outputs": [
    {
     "name": "stdout",
     "output_type": "stream",
     "text": [
      "[0, 1, 2, 2, 3, 4, 5, 6, 7, 8, 9]\n"
     ]
    }
   ],
   "source": [
    "# sort list\n",
    "lst.sort()\n",
    "print lst"
   ]
  },
  {
   "cell_type": "markdown",
   "metadata": {},
   "source": [
    "## Advanced Sets"
   ]
  },
  {
   "cell_type": "code",
   "execution_count": 15,
   "metadata": {
    "collapsed": true
   },
   "outputs": [],
   "source": [
    "st = set()"
   ]
  },
  {
   "cell_type": "code",
   "execution_count": 16,
   "metadata": {
    "collapsed": false
   },
   "outputs": [
    {
     "name": "stdout",
     "output_type": "stream",
     "text": [
      "set([1, 2])\n"
     ]
    }
   ],
   "source": [
    "# Adding elements\n",
    "st.add(1)\n",
    "st.add(2)\n",
    "print st"
   ]
  },
  {
   "cell_type": "code",
   "execution_count": 17,
   "metadata": {
    "collapsed": false
   },
   "outputs": [
    {
     "name": "stdout",
     "output_type": "stream",
     "text": [
      "set([])\n"
     ]
    }
   ],
   "source": [
    "# Removing all elements\n",
    "st.clear()\n",
    "print st"
   ]
  },
  {
   "cell_type": "code",
   "execution_count": 18,
   "metadata": {
    "collapsed": false
   },
   "outputs": [
    {
     "name": "stdout",
     "output_type": "stream",
     "text": [
      "set([1, 2, 3]) set([1, 2, 3])\n"
     ]
    }
   ],
   "source": [
    "# Copying sets \n",
    "st = {1, 2, 3}\n",
    "st2 = st.copy()\n",
    "print st, st2"
   ]
  },
  {
   "cell_type": "code",
   "execution_count": 19,
   "metadata": {
    "collapsed": false
   },
   "outputs": [
    {
     "name": "stdout",
     "output_type": "stream",
     "text": [
      "set([4])\n",
      "set([5])\n"
     ]
    }
   ],
   "source": [
    "# Getting difference\n",
    "st.add(4)\n",
    "st2.add(5)\n",
    "print st.difference(st2) # st -st2\n",
    "print st2.difference(st) # st2 - st"
   ]
  },
  {
   "cell_type": "code",
   "execution_count": 20,
   "metadata": {
    "collapsed": false
   },
   "outputs": [
    {
     "name": "stdout",
     "output_type": "stream",
     "text": [
      "set([5])\n"
     ]
    }
   ],
   "source": [
    "# Removing common elements\n",
    "st2.difference_update(st) # st2 = st2 - st\n",
    "print st2"
   ]
  },
  {
   "cell_type": "code",
   "execution_count": 21,
   "metadata": {
    "collapsed": false
   },
   "outputs": [
    {
     "name": "stdout",
     "output_type": "stream",
     "text": [
      "set([5])\n",
      "set([])\n"
     ]
    }
   ],
   "source": [
    "# Safely remove an existing member\n",
    "st2.discard(4) # Not an existing element\n",
    "print st2\n",
    "st2.discard(5) # Existing element\n",
    "print st2"
   ]
  },
  {
   "cell_type": "code",
   "execution_count": 22,
   "metadata": {
    "collapsed": false
   },
   "outputs": [
    {
     "name": "stdout",
     "output_type": "stream",
     "text": [
      "set([0, 1, 2, 3, 4, 5, 6, 7, 8, 9, 10, 11, 12, 13, 14, 15, 16, 17, 18, 19]) set([0, 32, 2, 4, 38, 6, 8, 10, 12, 34, 14, 16, 18, 20, 22, 24, 36, 26, 28, 30])\n"
     ]
    }
   ],
   "source": [
    "st1 = {i for i in range(20)}\n",
    "st2 = {i * 2 for i in range(20)}\n",
    "print st1, st2"
   ]
  },
  {
   "cell_type": "code",
   "execution_count": 23,
   "metadata": {
    "collapsed": false
   },
   "outputs": [
    {
     "name": "stdout",
     "output_type": "stream",
     "text": [
      "set([0, 2, 4, 6, 8, 10, 12, 14, 16, 18])\n"
     ]
    }
   ],
   "source": [
    "# Getting intersections\n",
    "print st1.intersection(st2)\n",
    "\n",
    "# Updating set to only include intersections\n"
   ]
  },
  {
   "cell_type": "code",
   "execution_count": 25,
   "metadata": {
    "collapsed": false
   },
   "outputs": [
    {
     "name": "stdout",
     "output_type": "stream",
     "text": [
      "set([0, 2, 4, 6, 8, 10, 12, 14, 16, 18])\n"
     ]
    }
   ],
   "source": [
    "# Updating to only include intersections\n",
    "st1.intersection_update(st2)\n",
    "print st1"
   ]
  },
  {
   "cell_type": "code",
   "execution_count": 26,
   "metadata": {
    "collapsed": false
   },
   "outputs": [
    {
     "name": "stdout",
     "output_type": "stream",
     "text": [
      "True\n"
     ]
    }
   ],
   "source": [
    "# Getting disjoint sets\n",
    "st1 = {x * 2 for x in range(10)}\n",
    "st2 = {x * 2 + 1 for x in range(10)}\n",
    "print st1.isdisjoint(st2)"
   ]
  },
  {
   "cell_type": "code",
   "execution_count": 28,
   "metadata": {
    "collapsed": false
   },
   "outputs": [
    {
     "name": "stdout",
     "output_type": "stream",
     "text": [
      "True\n",
      "True\n"
     ]
    }
   ],
   "source": [
    "# Getting supersets and subsets\n",
    "st1 = {x for x in range(10)}\n",
    "st2 = {x for x in range(20)}\n",
    "print st1.issubset(st2) \n",
    "print st2.issuperset(st1)"
   ]
  },
  {
   "cell_type": "code",
   "execution_count": 29,
   "metadata": {
    "collapsed": false
   },
   "outputs": [
    {
     "name": "stdout",
     "output_type": "stream",
     "text": [
      "set([0, 1, 2, 3, 4, 10, 11, 12, 13, 14, 15])\n",
      "set([0, 1, 2, 3, 4, 10, 11, 12, 13, 14, 15])\n"
     ]
    }
   ],
   "source": [
    "# Getting symmetric difference \n",
    "st1 = {x for x in range(10)}\n",
    "st2 = {x for x in range(5, 16)}\n",
    "print st1.symmetric_difference(st2) # (A - B) U (B - A)\n",
    "print st2.symmetric_difference(st1)"
   ]
  },
  {
   "cell_type": "code",
   "execution_count": 30,
   "metadata": {
    "collapsed": false
   },
   "outputs": [
    {
     "name": "stdout",
     "output_type": "stream",
     "text": [
      "set([0, 1, 2, 3, 4]) set([8, 9, 5, 6, 7]) set([0, 1, 2, 3, 4, 5, 6, 7, 8, 9])\n"
     ]
    }
   ],
   "source": [
    "# Gettin union\n",
    "st1 = {x for x in range(5)}\n",
    "st2 = {x for x in range(5, 10)}\n",
    "print st1, st2, st1.union(st2)"
   ]
  },
  {
   "cell_type": "markdown",
   "metadata": {},
   "source": [
    "## Advanced Strings"
   ]
  },
  {
   "cell_type": "code",
   "execution_count": 39,
   "metadata": {
    "collapsed": true
   },
   "outputs": [],
   "source": [
    "s = 'The boy needs therapy. He\\'s a nut - Frontier Psychatrist'"
   ]
  },
  {
   "cell_type": "code",
   "execution_count": 44,
   "metadata": {
    "collapsed": false
   },
   "outputs": [
    {
     "name": "stdout",
     "output_type": "stream",
     "text": [
      "THE BOY NEEDS THERAPY. HE'S A NUT - FRONTIER PSYCHATRIST\n"
     ]
    }
   ],
   "source": [
    "# Convert all to upper case\n",
    "print s.upper()"
   ]
  },
  {
   "cell_type": "code",
   "execution_count": 45,
   "metadata": {
    "collapsed": false
   },
   "outputs": [
    {
     "name": "stdout",
     "output_type": "stream",
     "text": [
      "the boy needs therapy. he's a nut - frontier psychatrist\n"
     ]
    }
   ],
   "source": [
    "# Convert all to lower case\n",
    "print s.lower()"
   ]
  },
  {
   "cell_type": "code",
   "execution_count": 46,
   "metadata": {
    "collapsed": false
   },
   "outputs": [
    {
     "name": "stdout",
     "output_type": "stream",
     "text": [
      "The boy needs therapy. he's a nut - frontier psychatrist\n"
     ]
    }
   ],
   "source": [
    "# Capitalize first letter\n",
    "print s.capitalize()"
   ]
  },
  {
   "cell_type": "code",
   "execution_count": 47,
   "metadata": {
    "collapsed": false
   },
   "outputs": [
    {
     "name": "stdout",
     "output_type": "stream",
     "text": [
      "3\n"
     ]
    }
   ],
   "source": [
    "# Count number of characters\n",
    "print s.count('h')"
   ]
  },
  {
   "cell_type": "code",
   "execution_count": 48,
   "metadata": {
    "collapsed": false
   },
   "outputs": [
    {
     "name": "stdout",
     "output_type": "stream",
     "text": [
      "1\n"
     ]
    }
   ],
   "source": [
    "# Indexing\n",
    "print s.find('h')"
   ]
  },
  {
   "cell_type": "code",
   "execution_count": 53,
   "metadata": {
    "collapsed": false
   },
   "outputs": [
    {
     "name": "stdout",
     "output_type": "stream",
     "text": [
      "**********************The boy needs therapy. He's a nut - Frontier Psychatrist**********************\n"
     ]
    }
   ],
   "source": [
    "# Centring string with specified width\n",
    "print s.center(100, '*')"
   ]
  },
  {
   "cell_type": "code",
   "execution_count": 57,
   "metadata": {
    "collapsed": false
   },
   "outputs": [
    {
     "data": {
      "text/plain": [
       "'lalalalal       lalalalal'"
      ]
     },
     "execution_count": 57,
     "metadata": {},
     "output_type": "execute_result"
    }
   ],
   "source": [
    "# Expanding tabs\n",
    "'lalalalal\\tlalalalal'.expandtabs()"
   ]
  },
  {
   "cell_type": "code",
   "execution_count": 59,
   "metadata": {
    "collapsed": false
   },
   "outputs": [
    {
     "data": {
      "text/plain": [
       "True"
      ]
     },
     "execution_count": 59,
     "metadata": {},
     "output_type": "execute_result"
    }
   ],
   "source": [
    "# Various is[char type] methods\n",
    "'123dog123'.isalnum()"
   ]
  },
  {
   "cell_type": "code",
   "execution_count": 64,
   "metadata": {
    "collapsed": false
   },
   "outputs": [
    {
     "data": {
      "text/plain": [
       "True"
      ]
     },
     "execution_count": 64,
     "metadata": {},
     "output_type": "execute_result"
    }
   ],
   "source": [
    "'Rigoletto'.isalpha()"
   ]
  },
  {
   "cell_type": "code",
   "execution_count": 66,
   "metadata": {
    "collapsed": false
   },
   "outputs": [
    {
     "data": {
      "text/plain": [
       "True"
      ]
     },
     "execution_count": 66,
     "metadata": {},
     "output_type": "execute_result"
    }
   ],
   "source": [
    "'16180339887'.isdigit()"
   ]
  },
  {
   "cell_type": "code",
   "execution_count": 67,
   "metadata": {
    "collapsed": false
   },
   "outputs": [
    {
     "data": {
      "text/plain": [
       "True"
      ]
     },
     "execution_count": 67,
     "metadata": {},
     "output_type": "execute_result"
    }
   ],
   "source": [
    "' '.isspace()"
   ]
  },
  {
   "cell_type": "code",
   "execution_count": 70,
   "metadata": {
    "collapsed": false
   },
   "outputs": [
    {
     "data": {
      "text/plain": [
       "True"
      ]
     },
     "execution_count": 70,
     "metadata": {},
     "output_type": "execute_result"
    }
   ],
   "source": [
    "'Peter Fayle'.endswith('e')"
   ]
  },
  {
   "cell_type": "markdown",
   "metadata": {},
   "source": [
    "### Regex Methods"
   ]
  },
  {
   "cell_type": "code",
   "execution_count": 74,
   "metadata": {
    "collapsed": false
   },
   "outputs": [
    {
     "name": "stdout",
     "output_type": "stream",
     "text": [
      "['', ' lord! ', ' the abdominable one! ', 'glaf!']\n",
      "('O lord! O the ', 'a', 'bdominable one! Oglaf!')\n"
     ]
    }
   ],
   "source": [
    "s = 'O lord! O the abdominable one! Oglaf!'\n",
    "# Split at char\n",
    "print s.split('O')\n",
    "\n",
    "# Form a tuple containing left part, seperator and right part\n",
    "print s.partition('a')"
   ]
  },
  {
   "cell_type": "markdown",
   "metadata": {},
   "source": [
    "## Advanced Dictionaries"
   ]
  },
  {
   "cell_type": "code",
   "execution_count": 75,
   "metadata": {
    "collapsed": false
   },
   "outputs": [
    {
     "name": "stdout",
     "output_type": "stream",
     "text": [
      "{0: 0, 1: 1, 2: 4, 3: 9, 4: 16, 5: 25, 6: 36, 7: 49, 8: 64, 9: 81}\n"
     ]
    }
   ],
   "source": [
    "# Dictionary Comprehensions\n",
    "d1 = {x: x**2 for x in range(10)}\n",
    "print d1"
   ]
  },
  {
   "cell_type": "code",
   "execution_count": 77,
   "metadata": {
    "collapsed": false
   },
   "outputs": [
    {
     "name": "stdout",
     "output_type": "stream",
     "text": [
      "key 0 is 0\n",
      "key 1 is 1\n",
      "key 2 is 2\n",
      "key 3 is 3\n",
      "key 4 is 4\n",
      "key 5 is 5\n",
      "key 6 is 6\n",
      "key 7 is 7\n",
      "key 8 is 8\n",
      "key 9 is 9\n"
     ]
    }
   ],
   "source": [
    "# Iterating Dictionary keys\n",
    "for num, i in enumerate(d1.iterkeys()):\n",
    "    print 'key %s is %s' % (num, i)"
   ]
  },
  {
   "cell_type": "code",
   "execution_count": 78,
   "metadata": {
    "collapsed": false
   },
   "outputs": [
    {
     "name": "stdout",
     "output_type": "stream",
     "text": [
      "val 0 is 0\n",
      "val 1 is 1\n",
      "val 2 is 4\n",
      "val 3 is 9\n",
      "val 4 is 16\n",
      "val 5 is 25\n",
      "val 6 is 36\n",
      "val 7 is 49\n",
      "val 8 is 64\n",
      "val 9 is 81\n"
     ]
    }
   ],
   "source": [
    "# Iterating Dictionary values\n",
    "for num, i in enumerate(d1.itervalues()):\n",
    "    print 'val %s is %s' % (num, i)"
   ]
  },
  {
   "cell_type": "code",
   "execution_count": 79,
   "metadata": {
    "collapsed": false
   },
   "outputs": [
    {
     "name": "stdout",
     "output_type": "stream",
     "text": [
      "0. 0 = 0\n",
      "1. 1 = 1\n",
      "2. 2 = 4\n",
      "3. 3 = 9\n",
      "4. 4 = 16\n",
      "5. 5 = 25\n",
      "6. 6 = 36\n",
      "7. 7 = 49\n",
      "8. 8 = 64\n",
      "9. 9 = 81\n"
     ]
    }
   ],
   "source": [
    "# Iterating Dictionaries\n",
    "for num, (k, v) in enumerate(d1.iteritems()):\n",
    "    print '%s. %s = %s' % (num, k, v)"
   ]
  },
  {
   "cell_type": "code",
   "execution_count": 80,
   "metadata": {
    "collapsed": false
   },
   "outputs": [
    {
     "name": "stdout",
     "output_type": "stream",
     "text": [
      "dict_items([(0, 0), (1, 1), (2, 4), (3, 9), (4, 16), (5, 25), (6, 36), (7, 49), (8, 64), (9, 81)])\n",
      "dict_keys([0, 1, 2, 3, 4, 5, 6, 7, 8, 9])\n",
      "dict_values([0, 1, 4, 9, 16, 25, 36, 49, 64, 81])\n"
     ]
    }
   ],
   "source": [
    "# Viewing dictionaries\n",
    "print d1.viewitems()\n",
    "print d1.viewkeys()\n",
    "print d1.viewvalues()"
   ]
  },
  {
   "cell_type": "code",
   "execution_count": null,
   "metadata": {
    "collapsed": true
   },
   "outputs": [],
   "source": []
  }
 ],
 "metadata": {
  "anaconda-cloud": {},
  "kernelspec": {
   "display_name": "Python [conda root]",
   "language": "python",
   "name": "conda-root-py"
  },
  "language_info": {
   "codemirror_mode": {
    "name": "ipython",
    "version": 2
   },
   "file_extension": ".py",
   "mimetype": "text/x-python",
   "name": "python",
   "nbconvert_exporter": "python",
   "pygments_lexer": "ipython2",
   "version": "2.7.12"
  }
 },
 "nbformat": 4,
 "nbformat_minor": 1
}
