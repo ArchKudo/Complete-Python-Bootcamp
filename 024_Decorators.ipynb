{
 "cells": [
  {
   "cell_type": "markdown",
   "metadata": {},
   "source": [
    "### Getting locals and globals\n"
   ]
  },
  {
   "cell_type": "code",
   "execution_count": 3,
   "metadata": {
    "collapsed": true
   },
   "outputs": [],
   "source": [
    "s = 'A global string'\n",
    "def l():\n",
    "    global s\n",
    "    x = 10 \n",
    "    print locals()\n",
    "    print globals().keys()"
   ]
  },
  {
   "cell_type": "code",
   "execution_count": 4,
   "metadata": {
    "collapsed": false
   },
   "outputs": [
    {
     "name": "stdout",
     "output_type": "stream",
     "text": [
      "{'x': 10}\n",
      "['_dh', '__', '__builtin__', '_i2', 'quit', '_i4', '_i3', '_iii', '_i1', 'exit', 'get_ipython', '_i', '__doc__', '__builtins__', '_ih', '__name__', '___', '_', '_sh', 'l', 's', '_ii', 'In', '_oh', 'Out']\n"
     ]
    }
   ],
   "source": [
    "l()"
   ]
  },
  {
   "cell_type": "markdown",
   "metadata": {},
   "source": [
    "### Copying functions\n"
   ]
  },
  {
   "cell_type": "code",
   "execution_count": 5,
   "metadata": {
    "collapsed": true
   },
   "outputs": [],
   "source": [
    "g = l\n"
   ]
  },
  {
   "cell_type": "code",
   "execution_count": 6,
   "metadata": {
    "collapsed": true
   },
   "outputs": [],
   "source": [
    "del l"
   ]
  },
  {
   "cell_type": "code",
   "execution_count": 7,
   "metadata": {
    "collapsed": false
   },
   "outputs": [
    {
     "name": "stdout",
     "output_type": "stream",
     "text": [
      "{'x': 10}\n",
      "['_dh', '__', '__builtin__', '_i2', 'quit', '_i7', '_i6', '_i5', '_i4', '_i3', '_iii', '_i1', 'exit', 'get_ipython', '_i', '__doc__', '__builtins__', '_ih', '__name__', '___', '_', '_sh', 'g', 's', '_ii', 'In', '_oh', 'Out']\n"
     ]
    }
   ],
   "source": [
    "g()"
   ]
  },
  {
   "cell_type": "markdown",
   "metadata": {},
   "source": [
    "### Functions within functons\n"
   ]
  },
  {
   "cell_type": "code",
   "execution_count": 10,
   "metadata": {
    "collapsed": true
   },
   "outputs": [],
   "source": [
    "def l():\n",
    "    print 'In l()'\n",
    "    def g():\n",
    "        return 'In g()'\n",
    "    def f():\n",
    "        return 'In f()'\n",
    "    print g()\n",
    "    print f()"
   ]
  },
  {
   "cell_type": "code",
   "execution_count": 11,
   "metadata": {
    "collapsed": false
   },
   "outputs": [
    {
     "name": "stdout",
     "output_type": "stream",
     "text": [
      "In l()\n",
      "In g()\n",
      "In f()\n"
     ]
    }
   ],
   "source": [
    "l()\n"
   ]
  },
  {
   "cell_type": "markdown",
   "metadata": {},
   "source": [
    "### Returning Functions"
   ]
  },
  {
   "cell_type": "code",
   "execution_count": 24,
   "metadata": {
    "collapsed": true
   },
   "outputs": [],
   "source": [
    "def f():\n",
    "    def g():\n",
    "        return '\\'am function g()'\n",
    "    return g # Return function not it's value"
   ]
  },
  {
   "cell_type": "code",
   "execution_count": 25,
   "metadata": {
    "collapsed": false
   },
   "outputs": [],
   "source": [
    "k = f() # Set k to return value of f()"
   ]
  },
  {
   "cell_type": "code",
   "execution_count": 26,
   "metadata": {
    "collapsed": false
   },
   "outputs": [
    {
     "name": "stdout",
     "output_type": "stream",
     "text": [
      "<type 'function'> <function g at 0x7f8654085410>\n"
     ]
    }
   ],
   "source": [
    "print type(k), k"
   ]
  },
  {
   "cell_type": "code",
   "execution_count": 27,
   "metadata": {
    "collapsed": false
   },
   "outputs": [
    {
     "data": {
      "text/plain": [
       "\"'am function g()\""
      ]
     },
     "execution_count": 27,
     "metadata": {},
     "output_type": "execute_result"
    }
   ],
   "source": [
    "k()"
   ]
  },
  {
   "cell_type": "markdown",
   "metadata": {},
   "source": [
    "### Functions as arguments"
   ]
  },
  {
   "cell_type": "code",
   "execution_count": 31,
   "metadata": {
    "collapsed": false
   },
   "outputs": [],
   "source": [
    "def f():\n",
    "    return 'Hello from func f()'\n",
    "\n",
    "def g(func):\n",
    "    print 'I take func as args'\n",
    "    return func()"
   ]
  },
  {
   "cell_type": "code",
   "execution_count": 33,
   "metadata": {
    "collapsed": false
   },
   "outputs": [
    {
     "name": "stdout",
     "output_type": "stream",
     "text": [
      "I take func as args\n",
      "Hello from func f()\n"
     ]
    }
   ],
   "source": [
    "print g(f)"
   ]
  },
  {
   "cell_type": "markdown",
   "metadata": {},
   "source": [
    "## Creating decorators"
   ]
  },
  {
   "cell_type": "code",
   "execution_count": 42,
   "metadata": {
    "collapsed": true
   },
   "outputs": [],
   "source": [
    "def new_decorator(func):\n",
    "    def add_hp():\n",
    "        return 'This sudd- sudden burst of Moaaaaaaaaaaaar Powerrrrrr -is amaiingggg'\n",
    "        \n",
    "    print 'Converting func to having moar power'\n",
    "    print func(), '\\nThis was weak originally'\n",
    "    \n",
    "    return add_hp\n",
    "\n",
    "def poor_chap():\n",
    "    return'I am weak'"
   ]
  },
  {
   "cell_type": "code",
   "execution_count": 43,
   "metadata": {
    "collapsed": false
   },
   "outputs": [
    {
     "name": "stdout",
     "output_type": "stream",
     "text": [
      "I am weak\n",
      "Converting func to having moar power\n",
      "I am weak \n",
      "This was weak originally\n",
      "This sudd- sudden burst of Moaaaaaaaaaaaar Powerrrrrr -is amaiingggg\n"
     ]
    }
   ],
   "source": [
    "print poor_chap()\n",
    "poor_chap = new_decorator(poor_chap)\n",
    "print poor_chap()"
   ]
  },
  {
   "cell_type": "code",
   "execution_count": 44,
   "metadata": {
    "collapsed": false
   },
   "outputs": [
    {
     "name": "stdout",
     "output_type": "stream",
     "text": [
      "Converting func to having moar power\n",
      "I was weak too \n",
      "This was weak originally\n"
     ]
    }
   ],
   "source": [
    "# Or a short hand\n",
    "@new_decorator\n",
    "def krillin():\n",
    "    return 'I was weak too'"
   ]
  },
  {
   "cell_type": "code",
   "execution_count": 45,
   "metadata": {
    "collapsed": false
   },
   "outputs": [
    {
     "data": {
      "text/plain": [
       "'This sudd- sudden burst of Moaaaaaaaaaaaar Powerrrrrr -is amaiingggg'"
      ]
     },
     "execution_count": 45,
     "metadata": {},
     "output_type": "execute_result"
    }
   ],
   "source": [
    "krillin()"
   ]
  },
  {
   "cell_type": "code",
   "execution_count": 46,
   "metadata": {
    "collapsed": false
   },
   "outputs": [
    {
     "data": {
      "text/plain": [
       "'This sudd- sudden burst of Moaaaaaaaaaaaar Powerrrrrr -is amaiingggg'"
      ]
     },
     "execution_count": 46,
     "metadata": {},
     "output_type": "execute_result"
    }
   ],
   "source": [
    "poor_chap()"
   ]
  },
  {
   "cell_type": "code",
   "execution_count": 47,
   "metadata": {
    "collapsed": false
   },
   "outputs": [
    {
     "data": {
      "text/plain": [
       "'add_hp'"
      ]
     },
     "execution_count": 47,
     "metadata": {},
     "output_type": "execute_result"
    }
   ],
   "source": [
    "krillin.func_name"
   ]
  },
  {
   "cell_type": "code",
   "execution_count": null,
   "metadata": {
    "collapsed": true
   },
   "outputs": [],
   "source": []
  }
 ],
 "metadata": {
  "kernelspec": {
   "display_name": "Python [conda root]",
   "language": "python",
   "name": "conda-root-py"
  },
  "language_info": {
   "codemirror_mode": {
    "name": "ipython",
    "version": 2
   },
   "file_extension": ".py",
   "mimetype": "text/x-python",
   "name": "python",
   "nbconvert_exporter": "python",
   "pygments_lexer": "ipython2",
   "version": "2.7.12"
  }
 },
 "nbformat": 4,
 "nbformat_minor": 1
}
