{
 "cells": [
  {
   "cell_type": "markdown",
   "metadata": {},
   "source": [
    "## Using the % symbol"
   ]
  },
  {
   "cell_type": "code",
   "execution_count": 1,
   "metadata": {
    "collapsed": false
   },
   "outputs": [
    {
     "name": "stdout",
     "output_type": "stream",
     "text": [
      "As simple as that\n"
     ]
    }
   ],
   "source": [
    "# A simple string \n",
    "print 'As simple as that'"
   ]
  },
  {
   "cell_type": "code",
   "execution_count": 2,
   "metadata": {
    "collapsed": false
   },
   "outputs": [
    {
     "name": "stdout",
     "output_type": "stream",
     "text": [
      "Not that simple\n"
     ]
    }
   ],
   "source": [
    "# A formatted string\n",
    "print 'Not that %s' %('simple')"
   ]
  },
  {
   "cell_type": "code",
   "execution_count": 3,
   "metadata": {
    "collapsed": false
   },
   "outputs": [
    {
     "name": "stdout",
     "output_type": "stream",
     "text": [
      "The meaning of life is 42\n"
     ]
    }
   ],
   "source": [
    "# Or a formatted number\n",
    "print 'The meaning of life is %d' %(42)"
   ]
  },
  {
   "cell_type": "code",
   "execution_count": 4,
   "metadata": {
    "collapsed": false
   },
   "outputs": [
    {
     "name": "stdout",
     "output_type": "stream",
     "text": [
      "What was it again, 1.618034?\n",
      "1.62 for short, I suppose\n"
     ]
    }
   ],
   "source": [
    "# Or a floating point number\n",
    "epsilon = 1.6180339887\n",
    "print 'What was it again, %f?' %(epsilon)\n",
    "print '%.2f for short, I suppose' %(epsilon)"
   ]
  },
  {
   "cell_type": "code",
   "execution_count": 5,
   "metadata": {
    "collapsed": false
   },
   "outputs": [
    {
     "name": "stdout",
     "output_type": "stream",
     "text": [
      "So you're saying Voldermort went wrong with  23 pounds ands 0.25 cents?\n",
      "Agent2147, your real name?\n",
      "'Lobo the ''4''th', sir!\n"
     ]
    }
   ],
   "source": [
    "# And all together\n",
    "print 'So you\\'re saying %s went wrong with %3d pounds ands %.2f cents?' %('Voldermort', 23, 0.2500)\n",
    "\n",
    "# Also %s converts everything into a string, so does %r\n",
    "# However %r is raw string\n",
    "print '%s%s, your real name?' %('Agent', 2147)\n",
    "print '%r%r%r, sir!' %('Lobo the ', '4', 'th')"
   ]
  },
  {
   "cell_type": "markdown",
   "metadata": {},
   "source": [
    "## Using format method"
   ]
  },
  {
   "cell_type": "code",
   "execution_count": 6,
   "metadata": {
    "collapsed": false
   },
   "outputs": [
    {
     "name": "stdout",
     "output_type": "stream",
     "text": [
      "The world goes round and round,\n",
      "What goes back must come around.\n"
     ]
    }
   ],
   "source": [
    "print 'The world goes {p} and {p},\\nWhat goes back must come a{p}.'.format(p='round')"
   ]
  },
  {
   "cell_type": "code",
   "execution_count": 7,
   "metadata": {
    "collapsed": false
   },
   "outputs": [
    {
     "name": "stdout",
     "output_type": "stream",
     "text": [
      "I added this statment single-handedly, nay empty-bracedly.\n"
     ]
    }
   ],
   "source": [
    "# As a consequence empty braces match the empty identifier\n",
    "print 'I added this statment {}.'.format('single-handedly, nay empty-bracedly')"
   ]
  },
  {
   "cell_type": "markdown",
   "metadata": {},
   "source": [
    "## For python 3\n"
   ]
  },
  {
   "cell_type": "code",
   "execution_count": 8,
   "metadata": {
    "collapsed": true
   },
   "outputs": [],
   "source": [
    "from __future__ import print_function"
   ]
  },
  {
   "cell_type": "code",
   "execution_count": 9,
   "metadata": {
    "collapsed": false
   },
   "outputs": [
    {
     "name": "stdout",
     "output_type": "stream",
     "text": [
      "This is formatted output, with big fat numbers: 1.618034\n"
     ]
    }
   ],
   "source": [
    "# Using %\n",
    "print('This is %s output, with big fat numbers: %f' %('formatted', epsilon))"
   ]
  },
  {
   "cell_type": "code",
   "execution_count": 10,
   "metadata": {
    "collapsed": false
   },
   "outputs": [
    {
     "name": "stdout",
     "output_type": "stream",
     "text": [
      "1.61803398871.61803398871.61803398871.6180339887\n"
     ]
    }
   ],
   "source": [
    "# Using format method\n",
    "print('{a}{a}{a}{a}'.format(a=epsilon))"
   ]
  },
  {
   "cell_type": "code",
   "execution_count": null,
   "metadata": {
    "collapsed": true
   },
   "outputs": [],
   "source": []
  }
 ],
 "metadata": {
  "anaconda-cloud": {},
  "kernelspec": {
   "display_name": "Python [conda root]",
   "language": "python",
   "name": "conda-root-py"
  },
  "language_info": {
   "codemirror_mode": {
    "name": "ipython",
    "version": 2
   },
   "file_extension": ".py",
   "mimetype": "text/x-python",
   "name": "python",
   "nbconvert_exporter": "python",
   "pygments_lexer": "ipython2",
   "version": "2.7.12"
  }
 },
 "nbformat": 4,
 "nbformat_minor": 1
}
