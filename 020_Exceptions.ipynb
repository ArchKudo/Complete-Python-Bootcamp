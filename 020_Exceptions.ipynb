{
 "cells": [
  {
   "cell_type": "markdown",
   "metadata": {},
   "source": [
    "### General Syntax\n",
    "```\n",
    "try:\n",
    "    something\n",
    "except [Optional exception type]:\n",
    "    do something\n",
    "else:\n",
    "    do something if there are no exceptions\n",
    "finally:\n",
    "    do something unconditionally\n",
    "```"
   ]
  },
  {
   "cell_type": "code",
   "execution_count": 9,
   "metadata": {
    "collapsed": false
   },
   "outputs": [
    {
     "name": "stdout",
     "output_type": "stream",
     "text": [
      "Succesfully written to file\n",
      "Hysterically Laughing.......\n",
      "\n"
     ]
    }
   ],
   "source": [
    "# To open a file \n",
    "try:\n",
    "    f = open('file_for_020.txt', 'w+')\n",
    "    f.write('Hysterically Laughing.......\\n')\n",
    "except IOError:\n",
    "    print 'Couldn\\'t write to file'\n",
    "else:\n",
    "    print 'Succesfully written to file'\n",
    "    f.seek(0)\n",
    "    print f.read()\n",
    "    f.close()\n",
    "finally:\n",
    "    pass"
   ]
  },
  {
   "cell_type": "code",
   "execution_count": 13,
   "metadata": {
    "collapsed": false
   },
   "outputs": [
    {
     "name": "stdout",
     "output_type": "stream",
     "text": [
      "Enter an int: w\n",
      "The entered number isn't a type of int\n",
      "Enter an int: q\n",
      "The entered number isn't a type of int\n",
      "Enter an int: 12\n",
      "Success\n",
      "12\n"
     ]
    }
   ],
   "source": [
    "# Asking for input\n",
    "while True:\n",
    "    try:\n",
    "        num = int(raw_input('Enter an int: '))\n",
    "    except:\n",
    "        print 'The entered number isn\\'t a type of int'\n",
    "        continue\n",
    "    else:\n",
    "        print 'Success'\n",
    "        print num\n",
    "        break\n"
   ]
  }
 ],
 "metadata": {
  "anaconda-cloud": {},
  "kernelspec": {
   "display_name": "Python [conda root]",
   "language": "python",
   "name": "conda-root-py"
  },
  "language_info": {
   "codemirror_mode": {
    "name": "ipython",
    "version": 2
   },
   "file_extension": ".py",
   "mimetype": "text/x-python",
   "name": "python",
   "nbconvert_exporter": "python",
   "pygments_lexer": "ipython2",
   "version": "2.7.12"
  }
 },
 "nbformat": 4,
 "nbformat_minor": 1
}
