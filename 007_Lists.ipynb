{
 "cells": [
  {
   "cell_type": "code",
   "execution_count": 1,
   "metadata": {
    "collapsed": false
   },
   "outputs": [
    {
     "name": "stdout",
     "output_type": "stream",
     "text": [
      "[1, 3, 3, 7]\n"
     ]
    }
   ],
   "source": [
    "# Creating a list\n",
    "list = [1, 3, 3, 7]\n",
    "print list"
   ]
  },
  {
   "cell_type": "code",
   "execution_count": 2,
   "metadata": {
    "collapsed": false
   },
   "outputs": [
    {
     "name": "stdout",
     "output_type": "stream",
     "text": [
      "['Serena', 'Sonata', 8, 'quartet', 31.21]\n"
     ]
    }
   ],
   "source": [
    "# A list with mixed data types\n",
    "mixed_list = ['Serena', 'Sonata', 8, 'quartet', 31.21]\n",
    "print mixed_list"
   ]
  },
  {
   "cell_type": "code",
   "execution_count": 3,
   "metadata": {
    "collapsed": false
   },
   "outputs": [
    {
     "name": "stdout",
     "output_type": "stream",
     "text": [
      "4\n",
      "5\n"
     ]
    }
   ],
   "source": [
    "# Getting length\n",
    "print len(list)\n",
    "print len(mixed_list)"
   ]
  },
  {
   "cell_type": "markdown",
   "metadata": {},
   "source": [
    "## Indexing and Slicing\n"
   ]
  },
  {
   "cell_type": "code",
   "execution_count": 4,
   "metadata": {
    "collapsed": false
   },
   "outputs": [
    {
     "name": "stdout",
     "output_type": "stream",
     "text": [
      "Serena\n"
     ]
    }
   ],
   "source": [
    "# Element at index 0\n",
    "print mixed_list[0]"
   ]
  },
  {
   "cell_type": "code",
   "execution_count": 5,
   "metadata": {
    "collapsed": false
   },
   "outputs": [
    {
     "name": "stdout",
     "output_type": "stream",
     "text": [
      "[3, 3, 7]\n",
      "['Sonata', 8, 'quartet', 31.21]\n"
     ]
    }
   ],
   "source": [
    "# All elements after the first\n",
    "print list[1:] # 0th element exclusive\n",
    "print mixed_list[1:]"
   ]
  },
  {
   "cell_type": "code",
   "execution_count": 6,
   "metadata": {
    "collapsed": false
   },
   "outputs": [
    {
     "name": "stdout",
     "output_type": "stream",
     "text": [
      "[1, 3, 3]\n",
      "['Serena', 'Sonata', 8, 'quartet']\n"
     ]
    }
   ],
   "source": [
    "# Or upto nth digit\n",
    "print list[:3] # 3rd element exclusive\n",
    "print mixed_list[:-1]"
   ]
  },
  {
   "cell_type": "markdown",
   "metadata": {},
   "source": [
    "## Concatenation"
   ]
  },
  {
   "cell_type": "code",
   "execution_count": 7,
   "metadata": {
    "collapsed": false
   },
   "outputs": [
    {
     "name": "stdout",
     "output_type": "stream",
     "text": [
      "['Serena', 'Sonata', 8, 'quartet', 31.21, 1, 3, 3, 7]\n"
     ]
    }
   ],
   "source": [
    "# Add two lists\n",
    "new_list = mixed_list + list\n",
    "print new_list"
   ]
  },
  {
   "cell_type": "code",
   "execution_count": 8,
   "metadata": {
    "collapsed": false
   },
   "outputs": [
    {
     "name": "stdout",
     "output_type": "stream",
     "text": [
      "['Serena', 'Sonata', 8, 'quartet', 31.21, 1, 3, 3, 7, 'la pomme']\n"
     ]
    }
   ],
   "source": [
    "# Add single items to list\n",
    "new_list += ['la pomme']\n",
    "print new_list"
   ]
  },
  {
   "cell_type": "code",
   "execution_count": 9,
   "metadata": {
    "collapsed": false
   },
   "outputs": [
    {
     "name": "stdout",
     "output_type": "stream",
     "text": [
      "['Serena', 'Sonata', 8, 'quartet', 31.21, 1, 3, 3, 7, 'la pomme', 'Serena', 'Sonata', 8, 'quartet', 31.21, 1, 3, 3, 7, 'la pomme']\n"
     ]
    }
   ],
   "source": [
    "# Or add it to itself with multiplication\n",
    "new_list = 2 * new_list\n",
    "print new_list"
   ]
  },
  {
   "cell_type": "markdown",
   "metadata": {},
   "source": [
    "## List Methods"
   ]
  },
  {
   "cell_type": "code",
   "execution_count": 10,
   "metadata": {
    "collapsed": false
   },
   "outputs": [
    {
     "name": "stdout",
     "output_type": "stream",
     "text": [
      "['Serena', 'Sonata', 8, 'quartet', 31.21, 'Moonlight']\n",
      "[1, 3, 3, 7, 5]\n"
     ]
    }
   ],
   "source": [
    "# Append to a list\n",
    "mixed_list.append('Moonlight')\n",
    "print mixed_list\n",
    "list.append(5)\n",
    "print list"
   ]
  },
  {
   "cell_type": "code",
   "execution_count": 11,
   "metadata": {
    "collapsed": false
   },
   "outputs": [
    {
     "name": "stdout",
     "output_type": "stream",
     "text": [
      "['Serena', 'Sonata', 8, 'quartet', 31.21, 1, 3, 3, 7, 'la pomme', 'Serena', 'Sonata', 8, 'quartet', 31.21, 1, 3, 3, 7]\n",
      "['Serena', 'Sonata', 8, 31.21, 1, 3, 3, 7, 'la pomme', 'Serena', 'Sonata', 8, 'quartet', 31.21, 1, 3, 3, 7]\n"
     ]
    }
   ],
   "source": [
    "# Pop element from a list\n",
    "new_list.pop() # Removes last element\n",
    "print new_list\n",
    "new_list.pop(3) # Removes element at index 3\n",
    "print new_list"
   ]
  },
  {
   "cell_type": "code",
   "execution_count": 12,
   "metadata": {
    "collapsed": false
   },
   "outputs": [
    {
     "name": "stdout",
     "output_type": "stream",
     "text": [
      "['Serena', 'Sonata', 8, 'quartet', 31.21] \n",
      "Moonlight\n"
     ]
    }
   ],
   "source": [
    "# Getting poped element\n",
    "poped = mixed_list.pop()\n",
    "print mixed_list, '\\n', poped"
   ]
  },
  {
   "cell_type": "code",
   "execution_count": 15,
   "metadata": {
    "collapsed": false
   },
   "outputs": [
    {
     "name": "stdout",
     "output_type": "stream",
     "text": [
      "['d', 'c', 'b', 'a']\n"
     ]
    }
   ],
   "source": [
    "# Reversing list elements\n",
    "char_list = ['a', 'b', 'c', 'd']\n",
    "char_list.reverse()\n",
    "print char_list"
   ]
  },
  {
   "cell_type": "code",
   "execution_count": 16,
   "metadata": {
    "collapsed": false
   },
   "outputs": [
    {
     "name": "stdout",
     "output_type": "stream",
     "text": [
      "['a', 'b', 'c', 'd']\n"
     ]
    }
   ],
   "source": [
    "# Or sort\n",
    "char_list.sort()\n",
    "print char_list"
   ]
  },
  {
   "cell_type": "markdown",
   "metadata": {},
   "source": [
    "## Nested Lists"
   ]
  },
  {
   "cell_type": "code",
   "execution_count": 2,
   "metadata": {
    "collapsed": false
   },
   "outputs": [
    {
     "name": "stdout",
     "output_type": "stream",
     "text": [
      "[[1, 2, 3], [4, 5, 6], ['alpha', 'charlie', 'beta']]\n",
      "[1, 2, 3]\n"
     ]
    }
   ],
   "source": [
    "nest = [[1, 2, 3], [4, 5, 6], ['alpha', 'charlie', 'beta']]\n",
    "print nest\n",
    "print nest[0]"
   ]
  },
  {
   "cell_type": "code",
   "execution_count": 3,
   "metadata": {
    "collapsed": false
   },
   "outputs": [
    {
     "name": "stdout",
     "output_type": "stream",
     "text": [
      "[1, 4, 'alpha']\n"
     ]
    }
   ],
   "source": [
    "# List comphrensions\n",
    "print [r[0] for r in nest]"
   ]
  },
  {
   "cell_type": "code",
   "execution_count": 5,
   "metadata": {
    "collapsed": false
   },
   "outputs": [
    {
     "name": "stdout",
     "output_type": "stream",
     "text": [
      "['-', '-', '-']\n"
     ]
    }
   ],
   "source": [
    "print ['-' for r in nest]"
   ]
  },
  {
   "cell_type": "code",
   "execution_count": null,
   "metadata": {
    "collapsed": true
   },
   "outputs": [],
   "source": []
  }
 ],
 "metadata": {
  "anaconda-cloud": {},
  "kernelspec": {
   "display_name": "Python [default]",
   "language": "python",
   "name": "python2"
  },
  "language_info": {
   "codemirror_mode": {
    "name": "ipython",
    "version": 2
   },
   "file_extension": ".py",
   "mimetype": "text/x-python",
   "name": "python",
   "nbconvert_exporter": "python",
   "pygments_lexer": "ipython2",
   "version": "2.7.12"
  }
 },
 "nbformat": 4,
 "nbformat_minor": 1
}
