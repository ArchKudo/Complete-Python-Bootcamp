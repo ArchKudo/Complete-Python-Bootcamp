{
 "cells": [
  {
   "cell_type": "code",
   "execution_count": 1,
   "metadata": {
    "collapsed": false
   },
   "outputs": [
    {
     "name": "stdout",
     "output_type": "stream",
     "text": [
      "{'isbn': 'book', 'id': 'student', 'key': 'value'}\n",
      "value\n",
      "book\n"
     ]
    }
   ],
   "source": [
    "# Creating dictionaries\n",
    "dict = {'key': 'value', 'id': 'student', 'isbn': 'book'}\n",
    "print dict\n",
    "\n",
    "# Indexing with keys\n",
    "print dict['key']\n",
    "print dict['isbn']\n",
    "\n"
   ]
  },
  {
   "cell_type": "code",
   "execution_count": 5,
   "metadata": {
    "collapsed": false
   },
   "outputs": [
    {
     "name": "stdout",
     "output_type": "stream",
     "text": [
      "[1, 2, 3, 4, 5, 6]\n",
      "1\n",
      "a\n"
     ]
    }
   ],
   "source": [
    "# Creating dictionaries with mixed datatypes\n",
    "dict = {'number': [1, 2, 3, 4, 5, 6], 'alphabets': 'ABCDEFGH', 'constant': 3.1415 } \n",
    "print dict['number']\n",
    "print dict['number'][0]\n",
    "print dict['alphabets'][0].lower()"
   ]
  },
  {
   "cell_type": "code",
   "execution_count": 6,
   "metadata": {
    "collapsed": false
   },
   "outputs": [
    {
     "name": "stdout",
     "output_type": "stream",
     "text": [
      "{'alphabets': 'ABCDEFGH', 'constant': 3.1415, 'number': [1, 2, 3, 4, 5, 6], 'new': 'item0'}\n"
     ]
    }
   ],
   "source": [
    "# Adding new keys\n",
    "dict['new'] = 'item0'\n",
    "print dict"
   ]
  },
  {
   "cell_type": "code",
   "execution_count": 7,
   "metadata": {
    "collapsed": false
   },
   "outputs": [
    {
     "name": "stdout",
     "output_type": "stream",
     "text": [
      "{'alphabets': 'ABCDEFGH', 'constant': 3.1415, 'number': [1, 2, 3, 4, 5, 6], 'new': 'item1'}\n"
     ]
    }
   ],
   "source": [
    "# Or modifying old ones\n",
    "dict['new'] = 'item1'\n",
    "print dict"
   ]
  },
  {
   "cell_type": "markdown",
   "metadata": {},
   "source": [
    "## Dictionary methods"
   ]
  },
  {
   "cell_type": "code",
   "execution_count": 8,
   "metadata": {
    "collapsed": false
   },
   "outputs": [
    {
     "name": "stdout",
     "output_type": "stream",
     "text": [
      "['alphabets', 'constant', 'number', 'new']\n",
      "['ABCDEFGH', 3.1415, [1, 2, 3, 4, 5, 6], 'item1']\n",
      "[('alphabets', 'ABCDEFGH'), ('constant', 3.1415), ('number', [1, 2, 3, 4, 5, 6]), ('new', 'item1')]\n"
     ]
    }
   ],
   "source": [
    "# Print all keys\n",
    "print dict.keys()\n",
    "\n",
    "# Print all values\n",
    "print dict.values()\n",
    "\n",
    "# Or get both\n",
    "print dict.items()"
   ]
  },
  {
   "cell_type": "markdown",
   "metadata": {},
   "source": [
    "## Other dictionary creations"
   ]
  },
  {
   "cell_type": "code",
   "execution_count": 9,
   "metadata": {
    "collapsed": false
   },
   "outputs": [
    {
     "name": "stdout",
     "output_type": "stream",
     "text": [
      "{}\n",
      "{'key0': 'value0'}\n"
     ]
    }
   ],
   "source": [
    "# Creating an empty dictionary\n",
    "empty = {}\n",
    "print empty\n",
    "\n",
    "# Add element\n",
    "empty['key0'] = 'value0'\n",
    "print empty"
   ]
  },
  {
   "cell_type": "code",
   "execution_count": 14,
   "metadata": {
    "collapsed": false
   },
   "outputs": [
    {
     "name": "stdout",
     "output_type": "stream",
     "text": [
      "{'lvl_0': {'lvl_1': {'lvl_2': 'value'}}}\n",
      "value\n",
      "['lvl_0']\n",
      "['lvl_1']\n",
      "['lvl_2']\n"
     ]
    }
   ],
   "source": [
    "# Creating a nested dictionary\n",
    "nest = {'lvl_0': {'lvl_1': {'lvl_2': 'value'}}}\n",
    "print nest\n",
    "print nest['lvl_0']['lvl_1']['lvl_2']\n",
    "\n",
    "# Key heirarchy\n",
    "print nest.keys()\n",
    "print nest['lvl_0'].keys()\n",
    "print nest['lvl_0']['lvl_1'].keys()"
   ]
  }
 ],
 "metadata": {
  "anaconda-cloud": {},
  "kernelspec": {
   "display_name": "Python [conda root]",
   "language": "python",
   "name": "conda-root-py"
  },
  "language_info": {
   "codemirror_mode": {
    "name": "ipython",
    "version": 2
   },
   "file_extension": ".py",
   "mimetype": "text/x-python",
   "name": "python",
   "nbconvert_exporter": "python",
   "pygments_lexer": "ipython2",
   "version": "2.7.12"
  }
 },
 "nbformat": 4,
 "nbformat_minor": 1
}
