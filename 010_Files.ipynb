{
 "cells": [
  {
   "cell_type": "markdown",
   "metadata": {},
   "source": [
    "## Shorthand to create files "
   ]
  },
  {
   "cell_type": "code",
   "execution_count": 1,
   "metadata": {
    "collapsed": false
   },
   "outputs": [
    {
     "name": "stdout",
     "output_type": "stream",
     "text": [
      "Overwriting file_for_010.txt\n"
     ]
    }
   ],
   "source": [
    "%%writefile file_for_010.txt\n",
    "Dominus Tecum Virgo Serena,\n",
    "Dominus Tecum Virgo Serena,\n",
    "Virgo Serena Panis et Pastoris,\n",
    "Virginium et Regina Salvator Christi,\n",
    "Templum Extitsti Dominus Dominus"
   ]
  },
  {
   "cell_type": "code",
   "execution_count": 2,
   "metadata": {
    "collapsed": false
   },
   "outputs": [
    {
     "name": "stdout",
     "output_type": "stream",
     "text": [
      "Dominus Tecum Virgo Serena,\n",
      "Dominus Tecum Virgo Serena,\n",
      "Virgo Serena Panis et Pastoris,\n",
      "Virginium et Regina Salvator Christi,\n",
      "Templum Extitsti Dominus Dominus\n"
     ]
    }
   ],
   "source": [
    "# Open a file\n",
    "file = open('file_for_010.txt')\n",
    "\n",
    "# Read the file \n",
    "print file.read()"
   ]
  },
  {
   "cell_type": "code",
   "execution_count": 3,
   "metadata": {
    "collapsed": false
   },
   "outputs": [
    {
     "data": {
      "text/plain": [
       "''"
      ]
     },
     "execution_count": 3,
     "metadata": {},
     "output_type": "execute_result"
    }
   ],
   "source": [
    "file.read() # Cursor at EOF"
   ]
  },
  {
   "cell_type": "code",
   "execution_count": 4,
   "metadata": {
    "collapsed": false
   },
   "outputs": [
    {
     "name": "stdout",
     "output_type": "stream",
     "text": [
      "Dominus Tecum Virgo Serena,\n",
      "Dominus Tecum Virgo Serena,\n",
      "Virgo Serena Panis et Pastoris,\n",
      "Virginium et Regina Salvator Christi,\n",
      "Templum Extitsti Dominus Dominus\n"
     ]
    }
   ],
   "source": [
    "file.seek(0) # Move to BOF\n",
    "print file.read() # Now works"
   ]
  },
  {
   "cell_type": "code",
   "execution_count": 5,
   "metadata": {
    "collapsed": false
   },
   "outputs": [
    {
     "data": {
      "text/plain": [
       "['Dominus Tecum Virgo Serena,\\n',\n",
       " 'Dominus Tecum Virgo Serena,\\n',\n",
       " 'Virgo Serena Panis et Pastoris,\\n',\n",
       " 'Virginium et Regina Salvator Christi,\\n',\n",
       " 'Templum Extitsti Dominus Dominus']"
      ]
     },
     "execution_count": 5,
     "metadata": {},
     "output_type": "execute_result"
    }
   ],
   "source": [
    "file.seek(0)\n",
    "file.readlines()"
   ]
  }
 ],
 "metadata": {
  "kernelspec": {
   "display_name": "Python [conda root]",
   "language": "python",
   "name": "conda-root-py"
  },
  "language_info": {
   "codemirror_mode": {
    "name": "ipython",
    "version": 2
   },
   "file_extension": ".py",
   "mimetype": "text/x-python",
   "name": "python",
   "nbconvert_exporter": "python",
   "pygments_lexer": "ipython2",
   "version": "2.7.12"
  }
 },
 "nbformat": 4,
 "nbformat_minor": 1
}
