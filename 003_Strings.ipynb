{
 "cells": [
  {
   "cell_type": "markdown",
   "metadata": {},
   "source": [
    "## String syntax\n"
   ]
  },
  {
   "cell_type": "code",
   "execution_count": 2,
   "metadata": {
    "collapsed": false
   },
   "outputs": [
    {
     "name": "stdout",
     "output_type": "stream",
     "text": [
      "Yam ea streing\n",
      "zest string du\n",
      "Thou haveth ne doubles\" say?\n",
      "Singles of the 'town'\n",
      "Lord Voldermort's pets say, \"hooray\"\n",
      "Iwanka's Secret\n"
     ]
    }
   ],
   "source": [
    "# Using single quotes\n",
    "print 'Yam ea streing'\n",
    "\n",
    "# Using double quotes\n",
    "print \"zest string du\"\n",
    "\n",
    "# Using single/double quotes in string\n",
    "print 'Thou haveth ne doubles\" say?' # Method 1\n",
    "print \"Singles of the 'town'\" # Method 2\n",
    "print \"Lord Voldermort's pets say, \\\"hooray\\\"\" # Using Escape characters\n",
    "print 'Iwanka\\'s Secret'"
   ]
  },
  {
   "cell_type": "markdown",
   "metadata": {},
   "source": [
    "## Other escape sequences\n"
   ]
  },
  {
   "cell_type": "code",
   "execution_count": 5,
   "metadata": {
    "collapsed": false
   },
   "outputs": [
    {
     "name": "stdout",
     "output_type": "stream",
     "text": [
      "\n",
      "\n",
      " \t\u0007 Ola! \t\u0007 \n",
      "\n",
      " \\\n"
     ]
    }
   ],
   "source": [
    "print \"\\n\\n \\t\\a Ola! \\t\\a \\n\\n \\\\\""
   ]
  },
  {
   "cell_type": "markdown",
   "metadata": {},
   "source": [
    "## Using python 3's print function"
   ]
  },
  {
   "cell_type": "code",
   "execution_count": 7,
   "metadata": {
    "collapsed": false
   },
   "outputs": [
    {
     "name": "stdout",
     "output_type": "stream",
     "text": [
      "Yaowza from the future\n"
     ]
    }
   ],
   "source": [
    "from __future__ import print_function\n",
    "\n",
    "print(\"Yaowza from the future\")"
   ]
  },
  {
   "cell_type": "markdown",
   "metadata": {},
   "source": []
  }
 ],
 "metadata": {
  "anaconda-cloud": {},
  "kernelspec": {
   "display_name": "Python [conda root]",
   "language": "python",
   "name": "conda-root-py"
  },
  "language_info": {
   "codemirror_mode": {
    "name": "ipython",
    "version": 2
   },
   "file_extension": ".py",
   "mimetype": "text/x-python",
   "name": "python",
   "nbconvert_exporter": "python",
   "pygments_lexer": "ipython2",
   "version": "2.7.12"
  }
 },
 "nbformat": 4,
 "nbformat_minor": 1
}
