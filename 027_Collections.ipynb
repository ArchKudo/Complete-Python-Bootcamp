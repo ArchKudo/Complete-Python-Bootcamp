{
 "cells": [
  {
   "cell_type": "markdown",
   "metadata": {},
   "source": [
    "## Counter"
   ]
  },
  {
   "cell_type": "markdown",
   "metadata": {},
   "source": [
    "Stores count of iterable in dict data type"
   ]
  },
  {
   "cell_type": "code",
   "execution_count": 1,
   "metadata": {
    "collapsed": true
   },
   "outputs": [],
   "source": [
    "import random as rn"
   ]
  },
  {
   "cell_type": "code",
   "execution_count": 2,
   "metadata": {
    "collapsed": false
   },
   "outputs": [
    {
     "name": "stdout",
     "output_type": "stream",
     "text": [
      "[9, 8, 10, 5, 7, 7, 8, 5, 2, 3, 4, 2, 0, 10, 6, 4, 6, 1, 6, 8, 6, 5, 1, 10, 8, 1, 1, 7, 7, 3, 1, 6, 6, 10, 9, 3, 5, 4, 5, 8, 0, 2, 10, 6, 6, 6, 10, 8, 2, 10, 0, 7, 3, 3, 9, 7, 10, 10, 9, 3, 0, 7, 7, 5, 10, 1, 2, 0, 9, 4, 1, 3, 10, 10, 7, 7, 2, 4, 1, 4, 9, 3, 7, 7, 6, 3, 10, 8, 6, 8, 3, 8, 7, 4, 0, 10, 3, 0, 0, 10]\n"
     ]
    }
   ],
   "source": [
    "lst = [rn.randint(0, 10) for i in range(100)]\n",
    "print lst"
   ]
  },
  {
   "cell_type": "code",
   "execution_count": 3,
   "metadata": {
    "collapsed": true
   },
   "outputs": [],
   "source": [
    "from collections import Counter"
   ]
  },
  {
   "cell_type": "code",
   "execution_count": 4,
   "metadata": {
    "collapsed": false
   },
   "outputs": [
    {
     "name": "stdout",
     "output_type": "stream",
     "text": [
      "Counter({10: 15, 7: 13, 3: 11, 6: 11, 8: 9, 0: 8, 1: 8, 4: 7, 2: 6, 5: 6, 9: 6})\n"
     ]
    }
   ],
   "source": [
    "lst = Counter(lst) # Counter of list\n",
    "print(lst)"
   ]
  },
  {
   "cell_type": "code",
   "execution_count": 5,
   "metadata": {
    "collapsed": true
   },
   "outputs": [],
   "source": [
    "import string as st"
   ]
  },
  {
   "cell_type": "code",
   "execution_count": 6,
   "metadata": {
    "collapsed": false
   },
   "outputs": [
    {
     "name": "stdout",
     "output_type": "stream",
     "text": [
      "hMcOTvXJBJsgwSteckmeWzZxaumpdZWvgWNXWhmdiDiZAFDfRv\n"
     ]
    }
   ],
   "source": [
    "str1 = ''.join(rn.choice(st.ascii_letters) for i in range(50))\n",
    "print str1"
   ]
  },
  {
   "cell_type": "code",
   "execution_count": 7,
   "metadata": {
    "collapsed": false
   },
   "outputs": [
    {
     "name": "stdout",
     "output_type": "stream",
     "text": [
      "Counter({'W': 4, 'Z': 3, 'm': 3, 'v': 3, 'D': 2, 'J': 2, 'X': 2, 'c': 2, 'e': 2, 'd': 2, 'g': 2, 'i': 2, 'h': 2, 'A': 1, 'B': 1, 'F': 1, 'M': 1, 'O': 1, 'N': 1, 'S': 1, 'R': 1, 'T': 1, 'a': 1, 'f': 1, 'k': 1, 'p': 1, 's': 1, 'u': 1, 't': 1, 'w': 1, 'x': 1, 'z': 1})\n"
     ]
    }
   ],
   "source": [
    "str1 = Counter(str1) # Counter of string\n",
    "print str1"
   ]
  },
  {
   "cell_type": "code",
   "execution_count": 8,
   "metadata": {
    "collapsed": false
   },
   "outputs": [
    {
     "name": "stdout",
     "output_type": "stream",
     "text": [
      "SSNfrHYewkTtfshgpLKPdPFGkPkJaIrJVv OmcwvvSMPQAZAh \n"
     ]
    }
   ],
   "source": [
    "str1 = ''.join(rn.choice(st.ascii_letters + ' ') for i in range(50))\n",
    "print str1"
   ]
  },
  {
   "cell_type": "code",
   "execution_count": 10,
   "metadata": {
    "collapsed": false
   },
   "outputs": [
    {
     "name": "stdout",
     "output_type": "stream",
     "text": [
      "Counter({'OmcwvvSMPQAZAh': 1, 'SSNfrHYewkTtfshgpLKPdPFGkPkJaIrJVv': 1})\n"
     ]
    }
   ],
   "source": [
    "words = str1.split()\n",
    "words = Counter(words) # Counter for words\n",
    "print words"
   ]
  },
  {
   "cell_type": "code",
   "execution_count": 21,
   "metadata": {
    "collapsed": false
   },
   "outputs": [
    {
     "name": "stdout",
     "output_type": "stream",
     "text": [
      "100\n",
      "Counter()\n",
      "[0, 1, 2, 3, 4, 5, 6, 7, 8, 9, 10]\n",
      "set([0, 1, 2, 3, 4, 5, 6, 7, 8, 9, 10])\n",
      "{0: 8, 1: 8, 2: 6, 3: 11, 4: 7, 5: 6, 6: 11, 7: 13, 8: 9, 9: 6, 10: 15}\n",
      "[8, 8, 6, 11, 7, 6, 11, 13, 9, 6, 15]\n",
      "[(9, 6), (5, 6), (2, 6), (4, 7), (1, 8), (0, 8), (8, 9), (6, 11), (3, 11), (7, 13), (10, 15)]\n",
      "Counter({10: 15, 7: 13, 3: 11, 6: 11, 8: 9, 0: 8, 1: 8, 4: 7, 2: 6, 5: 6, 9: 6})\n"
     ]
    }
   ],
   "source": [
    "print sum(lst.values()) # Prints sum of all counts\n",
    "words.clear() # Reset counter\n",
    "print words\n",
    "print list(lst)\n",
    "print set(lst)\n",
    "print dict(lst)\n",
    "print lst.values() # Values of elements\n",
    "print lst.most_common()[::-1] # Least common\n",
    "lst += Counter() # Removes negative and zero counts\n",
    "print lst"
   ]
  },
  {
   "cell_type": "markdown",
   "metadata": {},
   "source": [
    "## defaultdict"
   ]
  },
  {
   "cell_type": "markdown",
   "metadata": {},
   "source": [
    "Used to set default values for undefined keys"
   ]
  },
  {
   "cell_type": "code",
   "execution_count": 22,
   "metadata": {
    "collapsed": true
   },
   "outputs": [],
   "source": [
    "from collections import defaultdict"
   ]
  },
  {
   "cell_type": "code",
   "execution_count": 23,
   "metadata": {
    "collapsed": true
   },
   "outputs": [],
   "source": [
    "d = defaultdict(object)"
   ]
  },
  {
   "cell_type": "code",
   "execution_count": 24,
   "metadata": {
    "collapsed": false
   },
   "outputs": [
    {
     "data": {
      "text/plain": [
       "<object at 0x7ffa11c59fc0>"
      ]
     },
     "execution_count": 24,
     "metadata": {},
     "output_type": "execute_result"
    }
   ],
   "source": [
    "d['one']"
   ]
  },
  {
   "cell_type": "code",
   "execution_count": 25,
   "metadata": {
    "collapsed": false
   },
   "outputs": [
    {
     "name": "stdout",
     "output_type": "stream",
     "text": [
      "<object object at 0x7ffa11c59fc0>\n"
     ]
    }
   ],
   "source": [
    "print d['one']"
   ]
  },
  {
   "cell_type": "code",
   "execution_count": 26,
   "metadata": {
    "collapsed": true
   },
   "outputs": [],
   "source": [
    "d = defaultdict(lambda: 0)"
   ]
  },
  {
   "cell_type": "code",
   "execution_count": 27,
   "metadata": {
    "collapsed": false
   },
   "outputs": [
    {
     "data": {
      "text/plain": [
       "0"
      ]
     },
     "execution_count": 27,
     "metadata": {},
     "output_type": "execute_result"
    }
   ],
   "source": [
    "d['one']"
   ]
  },
  {
   "cell_type": "code",
   "execution_count": 28,
   "metadata": {
    "collapsed": true
   },
   "outputs": [],
   "source": [
    "d['two'] = 2"
   ]
  },
  {
   "cell_type": "code",
   "execution_count": 29,
   "metadata": {
    "collapsed": false
   },
   "outputs": [
    {
     "name": "stdout",
     "output_type": "stream",
     "text": [
      "defaultdict(<function <lambda> at 0x7ffa04486500>, {'two': 2, 'one': 0})\n"
     ]
    }
   ],
   "source": [
    "print d"
   ]
  },
  {
   "cell_type": "code",
   "execution_count": 30,
   "metadata": {
    "collapsed": false
   },
   "outputs": [
    {
     "data": {
      "text/plain": [
       "{'one': 0, 'two': 2}"
      ]
     },
     "execution_count": 30,
     "metadata": {},
     "output_type": "execute_result"
    }
   ],
   "source": [
    "dict(d)"
   ]
  },
  {
   "cell_type": "code",
   "execution_count": 31,
   "metadata": {
    "collapsed": false
   },
   "outputs": [
    {
     "data": {
      "text/plain": [
       "0"
      ]
     },
     "execution_count": 31,
     "metadata": {},
     "output_type": "execute_result"
    }
   ],
   "source": [
    "d['three']"
   ]
  },
  {
   "cell_type": "markdown",
   "metadata": {},
   "source": [
    "## ordereddict"
   ]
  },
  {
   "cell_type": "markdown",
   "metadata": {},
   "source": [
    "Dictionary with order"
   ]
  },
  {
   "cell_type": "code",
   "execution_count": 48,
   "metadata": {
    "collapsed": true
   },
   "outputs": [],
   "source": [
    "b = {'1': 'a', '2': 'v', '3': 'c'}"
   ]
  },
  {
   "cell_type": "code",
   "execution_count": 49,
   "metadata": {
    "collapsed": false
   },
   "outputs": [
    {
     "name": "stdout",
     "output_type": "stream",
     "text": [
      "1 a\n",
      "3 c\n",
      "2 v\n"
     ]
    }
   ],
   "source": [
    "# Built-in dicts are not ordered\n",
    "for k,v in b.items():\n",
    "    print k, v "
   ]
  },
  {
   "cell_type": "code",
   "execution_count": 50,
   "metadata": {
    "collapsed": true
   },
   "outputs": [],
   "source": [
    "from collections import OrderedDict"
   ]
  },
  {
   "cell_type": "code",
   "execution_count": 53,
   "metadata": {
    "collapsed": true
   },
   "outputs": [],
   "source": [
    "b = OrderedDict({'1': 'a', '2': 'v', '3': 'c'})"
   ]
  },
  {
   "cell_type": "code",
   "execution_count": 54,
   "metadata": {
    "collapsed": false
   },
   "outputs": [
    {
     "name": "stdout",
     "output_type": "stream",
     "text": [
      "1 a\n",
      "3 c\n",
      "2 v\n"
     ]
    }
   ],
   "source": [
    "for k, v in b.items():\n",
    "    print k,v"
   ]
  },
  {
   "cell_type": "markdown",
   "metadata": {},
   "source": [
    "## namedtuple"
   ]
  },
  {
   "cell_type": "code",
   "execution_count": 55,
   "metadata": {
    "collapsed": true
   },
   "outputs": [],
   "source": [
    "from collections import namedtuple as nt "
   ]
  },
  {
   "cell_type": "code",
   "execution_count": 56,
   "metadata": {
    "collapsed": true
   },
   "outputs": [],
   "source": [
    "dog = nt('dog', 'age breed drool')"
   ]
  },
  {
   "cell_type": "code",
   "execution_count": 57,
   "metadata": {
    "collapsed": true
   },
   "outputs": [],
   "source": [
    "sammy = dog(age=12, breed='lab', drool=True)"
   ]
  },
  {
   "cell_type": "code",
   "execution_count": 58,
   "metadata": {
    "collapsed": false
   },
   "outputs": [
    {
     "name": "stdout",
     "output_type": "stream",
     "text": [
      "dog(age=12, breed='lab', drool=True)\n"
     ]
    }
   ],
   "source": [
    "print sammy"
   ]
  },
  {
   "cell_type": "code",
   "execution_count": 62,
   "metadata": {
    "collapsed": false
   },
   "outputs": [
    {
     "name": "stdout",
     "output_type": "stream",
     "text": [
      "lab\n"
     ]
    }
   ],
   "source": [
    "print sammy[1]"
   ]
  }
 ],
 "metadata": {
  "kernelspec": {
   "display_name": "Python [conda root]",
   "language": "python",
   "name": "conda-root-py"
  },
  "language_info": {
   "codemirror_mode": {
    "name": "ipython",
    "version": 2
   },
   "file_extension": ".py",
   "mimetype": "text/x-python",
   "name": "python",
   "nbconvert_exporter": "python",
   "pygments_lexer": "ipython2",
   "version": "2.7.12"
  }
 },
 "nbformat": 4,
 "nbformat_minor": 1
}
