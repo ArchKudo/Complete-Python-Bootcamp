{
 "cells": [
  {
   "cell_type": "markdown",
   "metadata": {},
   "source": [
    "## Getting length"
   ]
  },
  {
   "cell_type": "code",
   "execution_count": 1,
   "metadata": {
    "collapsed": true
   },
   "outputs": [],
   "source": [
    "# Creating a new string\n",
    "hello = \"Dominus Tecum Virgo Serena\"\n"
   ]
  },
  {
   "cell_type": "code",
   "execution_count": 3,
   "metadata": {
    "collapsed": false
   },
   "outputs": [
    {
     "name": "stdout",
     "output_type": "stream",
     "text": [
      "26\n"
     ]
    }
   ],
   "source": [
    "# Getting its length\n",
    "print len(hello)"
   ]
  },
  {
   "cell_type": "markdown",
   "metadata": {},
   "source": [
    "## Getting letters from index\n"
   ]
  },
  {
   "cell_type": "code",
   "execution_count": 4,
   "metadata": {
    "collapsed": false
   },
   "outputs": [
    {
     "name": "stdout",
     "output_type": "stream",
     "text": [
      "D\n",
      "u\n"
     ]
    }
   ],
   "source": [
    "# Index in forward fashion\n",
    "print hello[0] # Index starts from 0\n",
    "print hello[5] # Print character @ 6th index \n",
    "\n"
   ]
  },
  {
   "cell_type": "code",
   "execution_count": 5,
   "metadata": {
    "collapsed": false
   },
   "outputs": [
    {
     "name": "stdout",
     "output_type": "stream",
     "text": [
      "a\n",
      "a\n"
     ]
    }
   ],
   "source": [
    "# Index in reverse fashion\n",
    "print hello[len(hello) - 1] # Print last character\n",
    "print hello[-1] # Short hand for previous snippet"
   ]
  },
  {
   "cell_type": "markdown",
   "metadata": {},
   "source": [
    "## Slicing"
   ]
  },
  {
   "cell_type": "code",
   "execution_count": 8,
   "metadata": {
    "collapsed": false
   },
   "outputs": [
    {
     "name": "stdout",
     "output_type": "stream",
     "text": [
      "Dominus Tecum Virgo Serena\n",
      "Dominus Tecum Virgo Serena\n",
      "us Tecu\n"
     ]
    }
   ],
   "source": [
    "# Forward slicing\n",
    "print hello[0:] # No slicing \n",
    "print hello[:] # Equivalent to previous \n",
    "print hello[5:12] # Sliced 0..4 - 12..20"
   ]
  },
  {
   "cell_type": "code",
   "execution_count": 18,
   "metadata": {
    "collapsed": false
   },
   "outputs": [
    {
     "name": "stdout",
     "output_type": "stream",
     "text": [
      "Dominus Tecum Virgo Seren\n",
      "rgo S\n",
      "us Tecum Virgo Ser\n"
     ]
    }
   ],
   "source": [
    "# Reverse Slicing\n",
    "print hello[:-1] # Slice from length - 1 (exclusive) to 0th index\n",
    "print hello[-10:-5] # Yet another example\n",
    "print hello[5:-3] # Mixed index\n",
    "\n",
    "\n"
   ]
  },
  {
   "cell_type": "code",
   "execution_count": 24,
   "metadata": {
    "collapsed": false
   },
   "outputs": [
    {
     "name": "stdout",
     "output_type": "stream",
     "text": [
      "DmnsTcmVroSrn\n",
      "anereS ogriV muceT sunimoD\n"
     ]
    }
   ],
   "source": [
    "# Increase Step Size\n",
    "print hello[::2] # Grabs every second character starting from zero index or, skips all odd characters\n",
    "# Printing slice in reverse\n",
    "print hello[::-1]"
   ]
  }
 ],
 "metadata": {
  "anaconda-cloud": {},
  "kernelspec": {
   "display_name": "Python [conda root]",
   "language": "python",
   "name": "conda-root-py"
  },
  "language_info": {
   "codemirror_mode": {
    "name": "ipython",
    "version": 2
   },
   "file_extension": ".py",
   "mimetype": "text/x-python",
   "name": "python",
   "nbconvert_exporter": "python",
   "pygments_lexer": "ipython2",
   "version": "2.7.12"
  }
 },
 "nbformat": 4,
 "nbformat_minor": 1
}
